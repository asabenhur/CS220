{
 "cells": [
  {
   "cell_type": "markdown",
   "metadata": {
    "id": "ulcHAxu8umVb"
   },
   "source": [
    "<a href=\"https://colab.research.google.com/github//asabenhur/cs220/blob/master/notebooks/01_python_intro_types_and_functions.ipynb\">\n",
    "  <img align=\"left\" src=\"https://colab.research.google.com/assets/colab-badge.svg\" alt=\"Open In Colab\"/>\n",
    "</a>\n",
    "\n",
    "# An introduction to Python part 1\n",
    "\n",
    "This notebook provides a short overview of Python data types, lists, logical operators and functions."
   ]
  },
  {
   "cell_type": "markdown",
   "metadata": {
    "id": "0wYOLEBvumVv"
   },
   "source": [
    "## Variables and basic Python types"
   ]
  },
  {
   "cell_type": "markdown",
   "metadata": {
    "id": "TUyaP83QumVw"
   },
   "source": [
    "Variables in Python can hold any type, and there is no need to declare them:"
   ]
  },
  {
   "cell_type": "code",
   "execution_count": null,
   "metadata": {
    "id": "W5sHk5dTumVy"
   },
   "outputs": [],
   "source": [
    "x = 5"
   ]
  },
  {
   "cell_type": "markdown",
   "metadata": {
    "id": "UYraGwswumV6"
   },
   "source": [
    "To determine what type of variable we created, use Python's `type` built in function:"
   ]
  },
  {
   "cell_type": "code",
   "execution_count": null,
   "metadata": {
    "id": "ASyTsypPumV_"
   },
   "outputs": [],
   "source": [
    "type(x)"
   ]
  },
  {
   "cell_type": "markdown",
   "metadata": {
    "id": "ey7mDe_DumWE"
   },
   "source": [
    "Since Python is dynamically typed, the type stored in a variable can change:"
   ]
  },
  {
   "cell_type": "code",
   "execution_count": null,
   "metadata": {
    "id": "AkJM1soCumWF"
   },
   "outputs": [],
   "source": [
    "x = 5.0\n",
    "type(x)"
   ]
  },
  {
   "cell_type": "markdown",
   "metadata": {
    "id": "k018DKB8umWG"
   },
   "source": [
    "You can coerce a value to an `int` or a `float`:"
   ]
  },
  {
   "cell_type": "code",
   "execution_count": null,
   "metadata": {
    "id": "yUx7_-IbumWH"
   },
   "outputs": [],
   "source": [
    "int(2.5)"
   ]
  },
  {
   "cell_type": "code",
   "execution_count": null,
   "metadata": {
    "id": "XKZXI5pYumWI"
   },
   "outputs": [],
   "source": [
    "float(2)"
   ]
  },
  {
   "cell_type": "markdown",
   "metadata": {
    "id": "Jj15s6OxumWI"
   },
   "source": [
    "All the regular mathematical operators (+, -, \\*, \\*\\*) work as expected.  The only distinction worth making is between the division operator (/) and the integer division operator (//):"
   ]
  },
  {
   "cell_type": "code",
   "execution_count": null,
   "metadata": {
    "id": "oJ70YiC4umWJ"
   },
   "outputs": [],
   "source": [
    "print(2/5)\n",
    "print(2//5)"
   ]
  },
  {
   "cell_type": "markdown",
   "metadata": {
    "id": "6foiCSN2umWO"
   },
   "source": [
    "Boolean variables:"
   ]
  },
  {
   "cell_type": "code",
   "execution_count": null,
   "metadata": {
    "id": "35MDMnAjumWP"
   },
   "outputs": [],
   "source": [
    "type(True)"
   ]
  },
  {
   "cell_type": "markdown",
   "metadata": {
    "id": "eK2bauFbumWV"
   },
   "source": [
    "Python strings are defined using single or double quotes:"
   ]
  },
  {
   "cell_type": "code",
   "execution_count": null,
   "metadata": {
    "id": "YuRdjxD5umWV"
   },
   "outputs": [],
   "source": [
    "'hello'"
   ]
  },
  {
   "cell_type": "code",
   "execution_count": null,
   "metadata": {
    "id": "xUzds_D3umWW"
   },
   "outputs": [],
   "source": [
    "type(\"hello\")"
   ]
  },
  {
   "cell_type": "markdown",
   "metadata": {
    "id": "CHjAdwauumWX"
   },
   "source": [
    "To produce output in the Jupyter notebook, you can either simply put a value in a cell and run it:"
   ]
  },
  {
   "cell_type": "code",
   "execution_count": null,
   "metadata": {
    "id": "WSRqFyHkumWX"
   },
   "outputs": [],
   "source": [
    "'Hello World!'"
   ]
  },
  {
   "cell_type": "markdown",
   "metadata": {
    "id": "EOOiEh4dumWa"
   },
   "source": [
    "Alternatively, you can use a `print` statement:"
   ]
  },
  {
   "cell_type": "code",
   "execution_count": null,
   "metadata": {
    "id": "0XJm-mFFumWa"
   },
   "outputs": [],
   "source": [
    "print('Hello World!')"
   ]
  },
  {
   "cell_type": "markdown",
   "metadata": {
    "id": "Cv90ba-qumWb"
   },
   "source": [
    "## Lists\n",
    "\n",
    "A list is an ordered set of values, where each value is identified by an index; Python lists are analogous to Java's `ArrayList` data structure.\n",
    "\n",
    "Let's create a few lists:"
   ]
  },
  {
   "cell_type": "code",
   "execution_count": null,
   "metadata": {
    "id": "UGzG4iVDumWb"
   },
   "outputs": [],
   "source": [
    "vocabulary = [\"ameliorate\", \"castigate\", \"defenestrate\"]\n",
    "numbers = [17, 123]\n",
    "mixed_list = [1, 'one', 2.21, [1,2,3]]\n",
    "empty = []"
   ]
  },
  {
   "cell_type": "markdown",
   "metadata": {
    "id": "Pr7i52WAumWb"
   },
   "source": [
    "That last list we created is the empty list.\n",
    "Notice that unlike Java ArrayLists, a Python list can contain elements of different types --- even another list!\n",
    "You can ask a list for its length:"
   ]
  },
  {
   "cell_type": "code",
   "execution_count": null,
   "metadata": {
    "id": "uaOkB-PNumWe"
   },
   "outputs": [],
   "source": [
    "len([])"
   ]
  },
  {
   "cell_type": "markdown",
   "metadata": {
    "id": "86UCHC1yumWm"
   },
   "source": [
    "* Try the ```len``` function on one of the other lists we defined above.\n",
    "\n",
    "### Adding elements to a list\n",
    "\n",
    "You can append an element to a list using its ```append``` method:"
   ]
  },
  {
   "cell_type": "code",
   "execution_count": null,
   "metadata": {
    "id": "rwoLE8CoumWn"
   },
   "outputs": [],
   "source": [
    "vocabulary = [\"ameliorate\", \"castigate\", \"defenestrate\"]\n",
    "vocabulary.append('your favorite word')\n",
    "# let's check the effect of the append operation:\n",
    "print(vocabulary)"
   ]
  },
  {
   "cell_type": "markdown",
   "metadata": {
    "id": "hiPq95ksumWo"
   },
   "source": [
    "### Set membership\n",
    "\n",
    "Multiple Python data structures support the membership operator, `is`, which checks if an element is in a list:"
   ]
  },
  {
   "cell_type": "code",
   "execution_count": null,
   "metadata": {
    "id": "2IOJHIDiumWo"
   },
   "outputs": [],
   "source": [
    "vocabulary = [\"ameliorate\", \"castigate\", \"defenestrate\"]\n",
    "\"defenestrate\" in vocabulary"
   ]
  },
  {
   "cell_type": "markdown",
   "metadata": {
    "id": "_UtnSxtXumWp"
   },
   "source": [
    "### List indexing\n",
    "\n",
    "Elements of a list are accessed using the bracket operator, and like in Java, indexing starts at 0.\n"
   ]
  },
  {
   "cell_type": "code",
   "execution_count": null,
   "metadata": {
    "id": "dKRBhTeYumWq"
   },
   "outputs": [],
   "source": [
    "numbers = [17, 123]\n",
    "numbers[0]"
   ]
  },
  {
   "cell_type": "markdown",
   "metadata": {
    "id": "X7wrbFsfumWq"
   },
   "source": [
    "Try to see what happens when you try to use an index that is greater or equal to the length of the list.\n",
    "\n",
    "In Python an index can take a **negative** value.  Can you figure out what that does?"
   ]
  },
  {
   "cell_type": "code",
   "execution_count": null,
   "metadata": {
    "id": "K8hVmWgBumWq"
   },
   "outputs": [],
   "source": [
    "# try using negative indices; what does that do?"
   ]
  },
  {
   "cell_type": "markdown",
   "metadata": {
    "id": "hwi4VsgHumWq"
   },
   "source": [
    "### Traversing a list\n",
    "\n",
    "It is common to iterate through the elements of a list using a `for` loop:"
   ]
  },
  {
   "cell_type": "code",
   "execution_count": null,
   "metadata": {
    "id": "ga2XpHiQumWq"
   },
   "outputs": [],
   "source": [
    "words = [\"ameliorate\", \"castigate\", \"defenestrate\"]\n",
    "for word in words :\n",
    "    print(word)"
   ]
  },
  {
   "cell_type": "markdown",
   "metadata": {
    "id": "lD1GFMMJumWr"
   },
   "source": [
    "Note the use of **indentation** to define a **block** of code.  Python does not use braces {  } the way Java and C do.  When using indentation you have to be consistent, and this is one aspect of Python that may take getting used to."
   ]
  },
  {
   "cell_type": "markdown",
   "metadata": {
    "id": "CzlzKgP2umWr"
   },
   "source": [
    "Another way to iterate over the elements of a list is using the `range` function:"
   ]
  },
  {
   "cell_type": "code",
   "execution_count": null,
   "metadata": {
    "id": "Ikwj8kFPumWr"
   },
   "outputs": [],
   "source": [
    "words = [\"ameliorate\", \"castigate\", \"defenestrate\"]\n",
    "for i in range(len(words)) :\n",
    "    words[i] = words[i].upper()\n",
    "words"
   ]
  },
  {
   "cell_type": "markdown",
   "metadata": {
    "id": "0_w-XldrumWs"
   },
   "source": [
    "The function call\n",
    "```python\n",
    "range(stop)\n",
    "```\n",
    "\n",
    "produces the integers from 0 to (and not including) stop.  It actually has more flexibility: the more general way to call this function is:\n",
    "\n",
    "```python\n",
    "range(start, stop[, step])\n",
    "```\n",
    "This produces the integers from a start until stop (not including).  The optional step parameter determines the increment, which is 1 by default.\n",
    "For example:\n"
   ]
  },
  {
   "cell_type": "code",
   "execution_count": null,
   "metadata": {
    "id": "tiPpRAVmumWs"
   },
   "outputs": [],
   "source": [
    "for i in range(1,10,2) : print (i,)"
   ]
  },
  {
   "cell_type": "markdown",
   "metadata": {
    "id": "_c0tSW24umWs"
   },
   "source": [
    "### Creating lists\n",
    "\n",
    "Here's Python code that creates a list that contains the first n squares:"
   ]
  },
  {
   "cell_type": "code",
   "execution_count": null,
   "metadata": {
    "id": "5MuPsFZVumWs"
   },
   "outputs": [],
   "source": [
    "n = 5\n",
    "squares = []\n",
    "for i in range(1, n+1):\n",
    "    squares.append(i**2)\n",
    "print(squares)"
   ]
  },
  {
   "cell_type": "markdown",
   "metadata": {
    "id": "OWHRBDm_umWt"
   },
   "source": [
    "### Exercises\n",
    "\n",
    "* Write a snippet of code that creates a list that contains all the even numbers that are less than a given number ```n```. \n"
   ]
  },
  {
   "cell_type": "code",
   "execution_count": null,
   "metadata": {
    "id": "IOXEKLS5umWt"
   },
   "outputs": [],
   "source": []
  },
  {
   "cell_type": "markdown",
   "metadata": {
    "id": "Bb6OabYTumWt"
   },
   "source": [
    "* Write a snippet of code that reverses a list.  To do this, create a new list that contains the elements in reverse order.  There are many ways to do this.  One way is to take advantage of the fact that the `range` function can take a negative step size."
   ]
  },
  {
   "cell_type": "code",
   "execution_count": null,
   "metadata": {
    "id": "27h7W6IpumWv"
   },
   "outputs": [],
   "source": []
  },
  {
   "cell_type": "markdown",
   "metadata": {
    "collapsed": true,
    "id": "Gbzc8Mh0umWw"
   },
   "source": [
    "* **Slices** allow you to create sublists.  To familiarize yourselves with slices, create a list called `values` and try out the following commands:\n",
    "```python\n",
    "values[1:3]  \n",
    "values[2:-1] \n",
    "values[:2]   \n",
    "values[2:]   \n",
    "values[::2] # this last value is the stride\n",
    "```\n",
    "Using slices you can also solve the above exercises using a single statement.  For reversing a list, think about using negative strides."
   ]
  },
  {
   "cell_type": "markdown",
   "metadata": {
    "id": "1V-86yKqumW1"
   },
   "source": [
    "### List comprehensions\n",
    "\n",
    "Python provides a more elegant way of creating lists using the so-called *list comprehensions*:"
   ]
  },
  {
   "cell_type": "code",
   "execution_count": null,
   "metadata": {
    "id": "no5kCUyvumW2"
   },
   "outputs": [],
   "source": [
    "squares = [i * i for i in range(1, n)]\n",
    "print(squares)"
   ]
  },
  {
   "cell_type": "markdown",
   "metadata": {
    "id": "a37XIfbtumW3"
   },
   "source": [
    "List comprehensions can contain an `if` clause that serves as a filter:"
   ]
  },
  {
   "cell_type": "code",
   "execution_count": null,
   "metadata": {
    "id": "mR0wcqDtumW3"
   },
   "outputs": [],
   "source": [
    "a_list = [1, '4', 9, 'a', 6, 4]\n",
    "\n",
    "squares = [ e**2 for e in a_list if type(e) == int ]\n",
    "\n",
    "print (squares)"
   ]
  },
  {
   "cell_type": "markdown",
   "metadata": {
    "id": "VZtTTyNVumW3"
   },
   "source": [
    "### Strings revisited\n",
    "\n",
    "The characters in a string can be accessed in the same way you access individual elements of a list using the bracket operator:"
   ]
  },
  {
   "cell_type": "code",
   "execution_count": null,
   "metadata": {
    "id": "hVIjVTbZumW3"
   },
   "outputs": [],
   "source": [
    "s = \"I love Python\"\n",
    "s[7]"
   ]
  },
  {
   "cell_type": "markdown",
   "metadata": {
    "id": "ocjJ3oGAumW4"
   },
   "source": [
    "Slices also work the same way as with lists:"
   ]
  },
  {
   "cell_type": "code",
   "execution_count": null,
   "metadata": {
    "id": "QzlNI_lnumW4"
   },
   "outputs": [],
   "source": [
    "s[7:]"
   ]
  },
  {
   "cell_type": "markdown",
   "metadata": {
    "id": "SizesrrOumW4"
   },
   "source": [
    "Loops also behave as you would expect:"
   ]
  },
  {
   "cell_type": "code",
   "execution_count": null,
   "metadata": {
    "id": "fUS7Ai_vumW4"
   },
   "outputs": [],
   "source": [
    "s = \"I love Python\"\n",
    "for character in s :\n",
    "    print (character, end='')"
   ]
  },
  {
   "cell_type": "markdown",
   "metadata": {
    "id": "wZgOZfOUumW5"
   },
   "source": [
    "Note the use of ```print(argument, end='')``` to prevent each character being printed on a new line.\n",
    "\n",
    "Alternatively we can do this as:"
   ]
  },
  {
   "cell_type": "code",
   "execution_count": null,
   "metadata": {
    "id": "7Xx8G1ZPumW5"
   },
   "outputs": [],
   "source": [
    "s = \"I love Python\"\n",
    "for i in range(len(s)) :\n",
    "    print (s[i], end='')"
   ]
  },
  {
   "cell_type": "markdown",
   "metadata": {
    "id": "H7vzblYWumW6"
   },
   "source": [
    "It is important to know that Python strings are immutable, i.e. cannot be modified once assigned:"
   ]
  },
  {
   "cell_type": "code",
   "execution_count": null,
   "metadata": {
    "id": "ukLLAokrumW7"
   },
   "outputs": [],
   "source": [
    "s = \"I love Python\"\n",
    "try :\n",
    "    s[0] = 'i'\n",
    "except :\n",
    "    print(\"strings are immutable\")\n"
   ]
  },
  {
   "cell_type": "markdown",
   "metadata": {
    "id": "ALUI4f_IumW7"
   },
   "source": [
    "### Boolean expressions\n",
    "\n",
    "Here are some of the Boolean comparison operators in Python:"
   ]
  },
  {
   "cell_type": "markdown",
   "metadata": {
    "id": "guX9zGq4umW8"
   },
   "source": [
    "Comparison Operators:\n",
    "```python\n",
    "      x == y               # x is equal to y\n",
    "      x != y               # x is not equal to y\n",
    "      x > y                # x is greater than y\n",
    "      x < y                # x is less than y\n",
    "      x >= y               # x is greater than or equal to y\n",
    "      x <= y               # x is less than or equal to y\n",
    "      x is y               # x is the same as y\n",
    "```      \n",
    "For example:"
   ]
  },
  {
   "cell_type": "code",
   "execution_count": null,
   "metadata": {
    "id": "xTI1VTKgumW8"
   },
   "outputs": [],
   "source": [
    "3 < 1"
   ]
  },
  {
   "cell_type": "markdown",
   "metadata": {
    "id": "DlWe3CP8umW8"
   },
   "source": [
    "### Logical operators\n",
    "In Python, logical operators are written in plain English, so our familiar  logical operators are expressed as:\n",
    "`and`, `or`, and `not`. Here are some examples:"
   ]
  },
  {
   "cell_type": "code",
   "execution_count": null,
   "metadata": {
    "id": "h4HlVL_xumW8"
   },
   "outputs": [],
   "source": [
    "print(3 < 1 and 3 > 1)\n",
    "print(3 < 1 or 3 > 1)\n",
    "print(not(3 < 1) and 3 > 1)"
   ]
  },
  {
   "cell_type": "markdown",
   "metadata": {
    "id": "2xZVTZz5umW9"
   },
   "source": [
    "Whenever in doubt about precedence, use parentheses!"
   ]
  },
  {
   "cell_type": "markdown",
   "metadata": {
    "id": "7fMy6OylumW9"
   },
   "source": [
    "The general syntax for `if` statements:\n",
    "\n",
    "```python\n",
    "if condition1 is true:\n",
    "    block of code\n",
    "elif condition2 is true:\n",
    "    block of code\n",
    "else:\n",
    "    block of code\n",
    "```\n",
    "\n",
    "For example:"
   ]
  },
  {
   "cell_type": "code",
   "execution_count": null,
   "metadata": {
    "id": "Xz9iK08RumW9"
   },
   "outputs": [],
   "source": [
    "x = 100\n",
    "if x > 100 :\n",
    "    print('x greater than 100')\n",
    "elif x >= 0 :\n",
    "    print ('x between 0 and 100')\n",
    "else :\n",
    "    print ('x is negative')"
   ]
  },
  {
   "cell_type": "markdown",
   "metadata": {
    "id": "_F6kWcWhumW-"
   },
   "source": [
    "Let's put everything we've learned so far to write a snippet of code that computes the maximum of a list:"
   ]
  },
  {
   "cell_type": "code",
   "execution_count": null,
   "metadata": {
    "id": "4uziKWWOumW-"
   },
   "outputs": [],
   "source": [
    "a_list = [1,5,23,-3]\n",
    "m = a_list[0]\n",
    "for element in a_list[1:] :\n",
    "    if element > m :\n",
    "        m = element\n",
    "print(m)"
   ]
  },
  {
   "cell_type": "markdown",
   "metadata": {
    "id": "QOZxBNFMumXE"
   },
   "source": [
    "Note the use of the `slice` operator.\n",
    "\n",
    "### Python functions\n",
    "\n",
    "The above snippet of code would be more useful as a function:"
   ]
  },
  {
   "cell_type": "code",
   "execution_count": null,
   "metadata": {
    "id": "h3VEP3JBumXF"
   },
   "outputs": [],
   "source": [
    "def list_max(a_list) :\n",
    "    m = a_list[0]\n",
    "    for element in a_list[1:] :\n",
    "        if element > m :\n",
    "            m = element\n",
    "    return m\n",
    "print(list_max([1,5,23,-3]))"
   ]
  },
  {
   "cell_type": "markdown",
   "metadata": {
    "id": "gQ2RRrvlumXF"
   },
   "source": [
    "Functions are defined using the `def` reserved word, and `return` is used to return a value.\n",
    "Note that we did not call our function `max`, because that would have shadowed Python's built-in function:"
   ]
  },
  {
   "cell_type": "code",
   "execution_count": null,
   "metadata": {
    "id": "1X2RkKW_umXG"
   },
   "outputs": [],
   "source": [
    "print(max([1,5,23,-3]))"
   ]
  },
  {
   "cell_type": "markdown",
   "metadata": {
    "id": "EVIptg7FumXG"
   },
   "source": [
    "Let's see what happens if we forget to return a value:\n"
   ]
  },
  {
   "cell_type": "code",
   "execution_count": null,
   "metadata": {
    "id": "cR5l4fjJumXH"
   },
   "outputs": [],
   "source": [
    "def list_max(a_list) :\n",
    "    m = a_list[0]\n",
    "    for element in a_list[1:] :\n",
    "        if element > m :\n",
    "            m = element\n",
    "print(list_max([1,5,23,-3]))"
   ]
  },
  {
   "cell_type": "markdown",
   "metadata": {
    "id": "tgRegAtYumXH"
   },
   "source": [
    "What happened is that the special value ```None``` got returned."
   ]
  },
  {
   "cell_type": "code",
   "execution_count": null,
   "metadata": {
    "id": "K9SW2iD3umXI"
   },
   "outputs": [],
   "source": [
    "print(None)\n",
    "print(type(None))"
   ]
  },
  {
   "cell_type": "markdown",
   "metadata": {
    "id": "ASfE09dkumXI"
   },
   "source": [
    "Python has special syntax for multiline string literals:"
   ]
  },
  {
   "cell_type": "code",
   "execution_count": null,
   "metadata": {
    "id": "3JmoYl4IumXJ"
   },
   "outputs": [],
   "source": [
    "'''hello\n",
    "multiline strings!'''"
   ]
  },
  {
   "cell_type": "markdown",
   "metadata": {
    "id": "pi1aRgXPumXJ"
   },
   "source": [
    "These are often used for function documentation"
   ]
  },
  {
   "cell_type": "code",
   "execution_count": null,
   "metadata": {
    "id": "Ov62JlO1umXK"
   },
   "outputs": [],
   "source": [
    "def my_function():\n",
    "    '''This function currently does nothing'''\n",
    "    pass"
   ]
  },
  {
   "cell_type": "code",
   "execution_count": null,
   "metadata": {
    "id": "1i40tdFVumXN"
   },
   "outputs": [],
   "source": [
    "help(my_function)"
   ]
  },
  {
   "cell_type": "markdown",
   "metadata": {
    "id": "j0ZrzXzgumXO"
   },
   "source": [
    "## Exercises\n",
    "\n",
    "In the following exercises make sure to include appropriate documentation of your functions as described above.\n",
    "\n",
    "* Write a function ```even(n)``` that returns a list of all the even numbers up to (and not including) n.\n",
    "\n"
   ]
  },
  {
   "cell_type": "code",
   "execution_count": null,
   "metadata": {
    "id": "lxsC4-OqumXO"
   },
   "outputs": [],
   "source": []
  },
  {
   "cell_type": "markdown",
   "metadata": {
    "id": "YrmkEFcQumXO"
   },
   "source": [
    "* Checking if a list is sorted.  Write a function called `is_sorted(list)` that receives a list as input and returns ```True``` if it's sorted in ascending order, and ```False``` otherwise.\n"
   ]
  },
  {
   "cell_type": "code",
   "execution_count": null,
   "metadata": {
    "id": "vJXOLlmLumXO"
   },
   "outputs": [],
   "source": []
  },
  {
   "cell_type": "markdown",
   "metadata": {
    "id": "pvLiceaMumX3"
   },
   "source": [
    "Consider the following function:"
   ]
  },
  {
   "cell_type": "code",
   "execution_count": null,
   "metadata": {
    "id": "NoQGF8H2umX3"
   },
   "outputs": [],
   "source": [
    "def double_values(a_list) :\n",
    "    for index, value in enumerate(a_list) :\n",
    "        a_list[index] = 2 * value\n",
    "\n",
    "things = [2, 5, 'Spam', 9.5]\n",
    "double_values(things)\n",
    "things"
   ]
  },
  {
   "cell_type": "markdown",
   "metadata": {
    "id": "xCcxYqehumX3"
   },
   "source": [
    "As you can see from running this code snippet, the function was able to modify the list that was passed to it."
   ]
  },
  {
   "cell_type": "markdown",
   "metadata": {
    "id": "X3zotgx8umX4"
   },
   "source": [
    "# Equality and comparison"
   ]
  },
  {
   "cell_type": "markdown",
   "metadata": {
    "id": "TAgfPUGkumX4"
   },
   "source": [
    "The double equal sign (`==`) in Python is like Java's `.equals`. You use it for all Python types. There is also the \"`is`\" keyword, which is rarely used in Python, and means \"lives at the same memory address,\" like `==` for objects in Java!"
   ]
  },
  {
   "cell_type": "code",
   "execution_count": null,
   "metadata": {
    "id": "szqqzP04umX5"
   },
   "outputs": [],
   "source": [
    "2 == 2.0"
   ]
  },
  {
   "cell_type": "markdown",
   "metadata": {
    "id": "yK3yMO1lumX6"
   },
   "source": [
    "Collections are compared by contents being equal and in the same order"
   ]
  },
  {
   "cell_type": "code",
   "execution_count": null,
   "metadata": {
    "id": "b0Mvf_qPumX6"
   },
   "outputs": [],
   "source": [
    "L = list(range(3))\n",
    "L == [0, 1, 2]"
   ]
  },
  {
   "cell_type": "markdown",
   "metadata": {
    "id": "fRf98awkumX7"
   },
   "source": [
    "### Running Python non-interactively"
   ]
  },
  {
   "cell_type": "markdown",
   "metadata": {
    "id": "YhOV9G0PumX8"
   },
   "source": [
    "To use code written in another file, import it by its file name (it should be in the same directory or in a standard location where Python searches for packages).\n",
    "As an example, put the following function in a file called ```helper_functions.py```.  Make sure to use a code editor.  In our Linux systems you have multiple options, e.g. kate, gedit, emacs, or vi/vim."
   ]
  },
  {
   "cell_type": "code",
   "execution_count": null,
   "metadata": {
    "id": "GpI0H9pLumX8"
   },
   "outputs": [],
   "source": [
    "def gcd(x, y):\n",
    "    x, y = sorted([x, y])\n",
    "    return x if y % x == 0 else gcd(x, y % x)"
   ]
  },
  {
   "cell_type": "markdown",
   "metadata": {
    "id": "3eTsMrJ9umX_"
   },
   "source": [
    "To use this function, open the Python interpreter and import the module you created:\n",
    "```bash\n",
    "$ python\n",
    "```\n",
    "```python\n",
    ">>> import helper_functions\n",
    ">>> helper_functions.gcd(25, 15)\n",
    "```\n"
   ]
  },
  {
   "cell_type": "code",
   "execution_count": null,
   "metadata": {
    "id": "l8kQ7z-HumX_"
   },
   "outputs": [],
   "source": []
  }
 ],
 "metadata": {
  "colab": {
   "name": "Copy of 01_python_intro_types_and_functions.ipynb",
   "provenance": []
  },
  "kernelspec": {
   "display_name": "Python 3",
   "language": "python",
   "name": "python3"
  },
  "language_info": {
   "codemirror_mode": {
    "name": "ipython",
    "version": 3
   },
   "file_extension": ".py",
   "mimetype": "text/x-python",
   "name": "python",
   "nbconvert_exporter": "python",
   "pygments_lexer": "ipython3",
   "version": "3.7.6"
  }
 },
 "nbformat": 4,
 "nbformat_minor": 1
}
