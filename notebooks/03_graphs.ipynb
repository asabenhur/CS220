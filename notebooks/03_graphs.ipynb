{
 "cells": [
  {
   "cell_type": "markdown",
   "metadata": {},
   "source": [
    "<a href=\"https://colab.research.google.com/github//asabenhur/cs220/blob/master/notebooks/03_graphs.ipynb\">\n",
    "  <img align=\"left\" src=\"https://colab.research.google.com/assets/colab-badge.svg\" alt=\"Open In Colab\"/>\n",
    "</a>\n",
    "\n",
    "# Recitation 14:  graphs\n",
    "\n",
    "Below is a partly implemented class for storing a graph with an adjacency list implementation to store its edges.  The TAs will explain the Python classes and "
   ]
  },
  {
   "cell_type": "code",
   "execution_count": null,
   "metadata": {},
   "outputs": [],
   "source": [
    "class graph :\n",
    "    def __init__(self, vertices) :\n",
    "        \"\"\"\n",
    "        initialize a graph with a list of vertices\n",
    "        \"\"\"\n",
    "        self.edges = {}\n",
    "        for vertex in vertices :\n",
    "            self.edges[vertex] = []\n",
    "    \n",
    "    def add_vertex(self, vertex) :\n",
    "        \"\"\"add a vertex to the graph\"\"\"\n",
    "        # if the vertex already exists, raise an exception:\n",
    "        if vertex in self.edges :\n",
    "            raise ValueError\n",
    "        self.edges[vertex] = []\n",
    "        \n",
    "    def add_edge(self, u, v) :\n",
    "        \"\"\"\n",
    "        adds an edge between vertices u and v\n",
    "        \"\"\"\n",
    "        # have your code raise an exception if u or v \n",
    "        # are not vertices in the graph\n",
    "        pass\n",
    "\n",
    "    def are_neighbors(self, u, v) :\n",
    "        \"\"\"returns True if there is an edge between \n",
    "        vertices u and u\"\"\"\n",
    "        return False\n",
    "    "
   ]
  },
  {
   "cell_type": "code",
   "execution_count": null,
   "metadata": {},
   "outputs": [],
   "source": [
    "g = graph([\"a\", \"b\", \"u\", \"v\", \"w\"])\n",
    "print(g.edges)"
   ]
  },
  {
   "cell_type": "markdown",
   "metadata": {},
   "source": [
    "## Part 1\n",
    "\n",
    "Complete the function `add_edge` in the graph class above.\n",
    "Keep in mind that this is an implementation for an undirected graph.  What are the implications for the adjacency list?"
   ]
  },
  {
   "cell_type": "code",
   "execution_count": null,
   "metadata": {},
   "outputs": [],
   "source": [
    "g.add_edge(\"a\", \"b\")\n",
    "g.add_edge(\"b\", \"u\")"
   ]
  },
  {
   "cell_type": "markdown",
   "metadata": {},
   "source": [
    "## Part 2\n",
    "\n",
    "Complete the function `are_neighbors` in the graph class above. "
   ]
  },
  {
   "cell_type": "code",
   "execution_count": null,
   "metadata": {},
   "outputs": [],
   "source": [
    "g.are_neighbors(\"a\", \"b\")"
   ]
  },
  {
   "cell_type": "markdown",
   "metadata": {},
   "source": [
    "## Part 3\n",
    "\n",
    "Your next task is to implement functions that check whether a given list of vertices form a walk, a circuit, a path, or a cycle.\n",
    "Recall the definitions for these concepts:\n",
    "A **walk** is a list of vertices such that every consecutive pair of vertices is an edge in the graph; a **circuit** is a walk in which the first vertex is the same as the last vertex.  \n",
    "A walk is a **path** if no vertex is repeated in the walk. \n",
    "A circuit is a **cycle** if it has no repeated vertices, except the first and the last.\n",
    "\n",
    "In your code add additional tests to evaluate your implementation."
   ]
  },
  {
   "cell_type": "code",
   "execution_count": null,
   "metadata": {},
   "outputs": [],
   "source": [
    "def is_walk(g, vertices) :\n",
    "    \"\"\"return True if the list of vertices form a walk in \n",
    "    the graph g and False otherwise\"\"\"\n",
    "    return False\n",
    "\n",
    "is_walk(g, [\"a\", \"b\", \"u\"])"
   ]
  },
  {
   "cell_type": "code",
   "execution_count": null,
   "metadata": {},
   "outputs": [],
   "source": [
    "def is_circuit(g, vertices) :\n",
    "    \"\"\"return True if the list of vertices form a circuit in \n",
    "    the graph g and False otherwise\"\"\"\n",
    "    return False\n",
    "\n",
    "is_circuit(g, [\"a\", \"b\", \"u\"])"
   ]
  },
  {
   "cell_type": "code",
   "execution_count": null,
   "metadata": {},
   "outputs": [],
   "source": [
    "def is_path(g, vertices) :\n",
    "    \"\"\"return True if the list of vertices form a path in \n",
    "    the graph g and False otherwise\"\"\"\n",
    "    return False\n",
    "\n",
    "is_path(g, [\"a\", \"b\", \"u\"])"
   ]
  },
  {
   "cell_type": "code",
   "execution_count": null,
   "metadata": {},
   "outputs": [],
   "source": [
    "def is_cycle(g, vertices) :\n",
    "    \"\"\"return True if the list of vertices form a cycle in \n",
    "    the graph g and False otherwise\"\"\"\n",
    "    return False\n",
    "\n",
    "is_cycle(g, [\"a\", \"b\", \"u\"])"
   ]
  },
  {
   "cell_type": "code",
   "execution_count": null,
   "metadata": {},
   "outputs": [],
   "source": []
  }
 ],
 "metadata": {
  "kernelspec": {
   "display_name": "Python 3",
   "language": "python",
   "name": "python3"
  },
  "language_info": {
   "codemirror_mode": {
    "name": "ipython",
    "version": 3
   },
   "file_extension": ".py",
   "mimetype": "text/x-python",
   "name": "python",
   "nbconvert_exporter": "python",
   "pygments_lexer": "ipython3",
   "version": "3.7.6"
  }
 },
 "nbformat": 4,
 "nbformat_minor": 4
}
