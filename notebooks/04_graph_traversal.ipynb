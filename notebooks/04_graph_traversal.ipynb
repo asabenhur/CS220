{
 "cells": [
  {
   "cell_type": "markdown",
   "metadata": {},
   "source": [
    "<a href=\"https://colab.research.google.com/github//asabenhur/cs220/blob/master/notebooks/04_graph_traversal.ipynb\">\n",
    "  <img align=\"left\" src=\"https://colab.research.google.com/assets/colab-badge.svg\" alt=\"Open In Colab\"/>\n",
    "</a>\n",
    "\n",
    "# Graph traversal\n",
    "\n",
    "In this notebook we look at algorithms for graph traversal:  DFS and BFS.\n",
    "\n",
    "First, let's implement a simple class for representing a graph using an adjacency list for storing its edges."
   ]
  },
  {
   "cell_type": "code",
   "execution_count": 3,
   "metadata": {},
   "outputs": [],
   "source": [
    "class graph :\n",
    "    \"\"\"A class for representing a graph using an adjacency\n",
    "    list representation\"\"\"\n",
    "    def __init__(self, vertices) :\n",
    "        \"\"\"\n",
    "        initialize a graph with a list of vertices\n",
    "        \"\"\"\n",
    "        self.adjacencies = {}\n",
    "        for vertex in vertices :\n",
    "            self.adjacencies[vertex] = []\n",
    "    \n",
    "    def add_vertex(self, vertex) :\n",
    "        \"\"\"add a vertex to the graph\"\"\"\n",
    "        # if the vertex already exists, raise an exception:\n",
    "        if vertex in self.edges :\n",
    "            raise ValueError\n",
    "        self.adjacencies[vertex] = []\n",
    "        \n",
    "    def add_edge(self, u, v) :\n",
    "        \"\"\"\n",
    "        adds an edge between vertices u and v\n",
    "        \"\"\"\n",
    "        if u not in self.adjacencies or v not in self.adjacencies:\n",
    "            raise ValueError\n",
    "        self.adjacencies[u].append(v)\n",
    "        self.adjacencies[v].append(u)\n",
    "\n",
    "    def are_neighbors(self, u, v) :\n",
    "        \"\"\"returns True if there is an edge between \n",
    "        vertices u and u\"\"\"\n",
    "        return u in adjacencies[v]\n",
    "    "
   ]
  },
  {
   "cell_type": "markdown",
   "metadata": {},
   "source": [
    "Let's create a graph with eight vertices and add some edges:"
   ]
  },
  {
   "cell_type": "code",
   "execution_count": 4,
   "metadata": {},
   "outputs": [
    {
     "data": {
      "text/plain": [
       "{1: [2, 3],\n",
       " 2: [1, 3, 4, 5],\n",
       " 3: [1, 2, 5, 7, 8],\n",
       " 4: [2, 5],\n",
       " 5: [2, 3, 4, 6],\n",
       " 6: [5],\n",
       " 7: [3, 8],\n",
       " 8: [3, 7]}"
      ]
     },
     "execution_count": 4,
     "metadata": {},
     "output_type": "execute_result"
    }
   ],
   "source": [
    "g = graph(range(1, 9))\n",
    "g.add_edge(1,2)\n",
    "g.add_edge(1,3)\n",
    "g.add_edge(2,3)\n",
    "g.add_edge(2,4)\n",
    "g.add_edge(2,5)\n",
    "g.add_edge(3,5)\n",
    "g.add_edge(3,7)\n",
    "g.add_edge(3,8)\n",
    "g.add_edge(4,5)\n",
    "g.add_edge(5,6)\n",
    "g.add_edge(7,8)\n",
    "g.adjacencies"
   ]
  },
  {
   "cell_type": "markdown",
   "metadata": {},
   "source": [
    "### Depth First Search (DFS)\n",
    "\n",
    "The following is a recursive implementation of DFS:"
   ]
  },
  {
   "cell_type": "code",
   "execution_count": 5,
   "metadata": {},
   "outputs": [],
   "source": [
    "def dfs(g, v, explored = {}) :\n",
    "    \"\"\"perform DFS on a graph g starting at vertex v\"\"\"\n",
    "    print(\"exploring \", v)\n",
    "    explored[v] = 1\n",
    "    for u in g.adjacencies[v] :\n",
    "        if not(u in explored) :\n",
    "            dfs(g, u, explored)"
   ]
  },
  {
   "cell_type": "code",
   "execution_count": 6,
   "metadata": {},
   "outputs": [
    {
     "name": "stdout",
     "output_type": "stream",
     "text": [
      "exploring  1\n",
      "exploring  2\n",
      "exploring  3\n",
      "exploring  5\n",
      "exploring  4\n",
      "exploring  6\n",
      "exploring  7\n",
      "exploring  8\n"
     ]
    }
   ],
   "source": [
    "dfs(g, 1)"
   ]
  },
  {
   "cell_type": "markdown",
   "metadata": {},
   "source": [
    "It is possible to implement DFS non recursively using a stack data structure to simulate the call-stack.\n",
    "\n",
    "## Breadth First Search (BFS)\n",
    "\n",
    "Next, we will implement BFS and use a list to simulate a queue.  As an alternative (with better performance) you can use the Python [queue](https://docs.python.org/3/library/queue.html) module which provides a class called `Queue` for FIFO style access."
   ]
  },
  {
   "cell_type": "code",
   "execution_count": 5,
   "metadata": {},
   "outputs": [],
   "source": [
    "def bfs(g, v) :\n",
    "    \"\"\"perform BFS on a graph g starting at vertex v\"\"\"\n",
    "    # the list of nodes that are awaiting processing\n",
    "    q = []\n",
    "    # a dictionary of explored nodes\n",
    "    explored = {}\n",
    "    explored[v] = 1\n",
    "    print(\"exploring \", v)\n",
    "    q.append(v)\n",
    "    while(len(q)>0) :\n",
    "        u = q.pop(0) # retrieve a vertex from the beginning\n",
    "        for v in g.adjacencies[u] :\n",
    "             if not(v in explored) :\n",
    "                explored[v] = 1\n",
    "                print(\"exploring \", v)\n",
    "                q.append(v)"
   ]
  },
  {
   "cell_type": "code",
   "execution_count": 6,
   "metadata": {},
   "outputs": [
    {
     "name": "stdout",
     "output_type": "stream",
     "text": [
      "exploring  1\n",
      "exploring  2\n",
      "exploring  3\n",
      "exploring  4\n",
      "exploring  5\n",
      "exploring  7\n",
      "exploring  8\n",
      "exploring  6\n"
     ]
    }
   ],
   "source": [
    "bfs(g, 1)"
   ]
  }
 ],
 "metadata": {
  "kernelspec": {
   "display_name": "Python 3 (ipykernel)",
   "language": "python",
   "name": "python3"
  },
  "language_info": {
   "codemirror_mode": {
    "name": "ipython",
    "version": 3
   },
   "file_extension": ".py",
   "mimetype": "text/x-python",
   "name": "python",
   "nbconvert_exporter": "python",
   "pygments_lexer": "ipython3",
   "version": "3.7.6"
  }
 },
 "nbformat": 4,
 "nbformat_minor": 4
}
